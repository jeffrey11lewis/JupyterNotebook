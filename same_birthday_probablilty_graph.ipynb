{
 "cells": [
  {
   "cell_type": "code",
   "execution_count": 16,
   "metadata": {},
   "outputs": [
    {
     "name": "stdout",
     "output_type": "stream",
     "text": [
      "the average of the 10 runs is 50.50%\n",
      "[0, 1, 2, 3, 4, 5, 6, 7, 8, 9]\n",
      "['51.05', '50.49', '50.28', '50.22', '50.30', '50.49', '50.92', '50.68', '50.39', '50.18']\n"
     ]
    },
    {
     "data": {
      "image/png": "[encoded data removed]",
      "text/plain": [
       "<Figure size 432x288 with 1 Axes>"
      ]
     },
     "metadata": {
      "needs_background": "light"
     },
     "output_type": "display_data"
    }
   ],
   "source": [
    "import matplotlib.pyplot as plt\n",
    "import random\n",
    "random.seed()\n",
    "\n",
    "def did_anyone_have_a_birthday_match(people_in_room):\n",
    "    birthdays_in_room = []\n",
    "    for index in range(people_in_room):\n",
    "        my_birthday = random.randint(1, 367)\n",
    "        birthdays_in_room.append(my_birthday)\n",
    "\n",
    "    birthdays_in_room_set = set(birthdays_in_room)\n",
    "    if (len(birthdays_in_room_set) != len(birthdays_in_room)):\n",
    "        return True\n",
    "    else:\n",
    "        return False\n",
    "\n",
    "\n",
    "if __name__ == '__main__':\n",
    "    people_in_room = 23\n",
    "    repeat_size = 10 \n",
    "    match_count = 0\n",
    "    sample_size = 10000\n",
    "    x_values =[]\n",
    "    y_values = []\n",
    "\n",
    "    percent_list = []\n",
    "    for index in range(repeat_size):\n",
    "        x_values.append(index)\n",
    "        match_count = 0\n",
    "        percent_match = 0\n",
    "        for index in range(sample_size):\n",
    "            we_had_a_match =  did_anyone_have_a_birthday_match(people_in_room)\n",
    "            if(we_had_a_match):\n",
    "                match_count += 1\n",
    "                percent_match = (match_count / sample_size) *100\n",
    "                percent_to_average = (match_count / sample_size)\n",
    "                percent_formatted = \"{:.2f}\".format(percent_match)\n",
    "       \n",
    "        y_values.append(percent_formatted)\n",
    "        #print('out of a sample size of {}, we had {} matches, or {}% '.format(sample_size, match_count, percent_formatted))\n",
    "        percent_list.append(percent_to_average)\n",
    "        average_of_repeats = (sum(percent_list) / len(percent_list)) * 100\n",
    "        average_of_repeats_formatted = \"{:.2f}\".format(average_of_repeats)\n",
    "    print('the average of the {} runs is {}%'.format(repeat_size, average_of_repeats_formatted))\n",
    "    print(x_values)\n",
    "    print(y_values)\n",
    "    plt.yscale('log')\n",
    "    plt.bar(x_values, y_values )\n",
    "    plt.show()"
   ]
  }
 ],
 "metadata": {
  "interpreter": {
   "hash": "b3ba2566441a7c06988d0923437866b63cedc61552a5af99d1f4fb67d367b25f"
  },
  "kernelspec": {
   "display_name": "Python 3.8.8 64-bit ('base': conda)",
   "language": "python",
   "name": "python3"
  },
  "language_info": {
   "codemirror_mode": {
    "name": "ipython",
    "version": 3
   },
   "file_extension": ".py",
   "mimetype": "text/x-python",
   "name": "python",
   "nbconvert_exporter": "python",
   "pygments_lexer": "ipython3",
   "version": "3.8.8"
  },
  "orig_nbformat": 4
 },
 "nbformat": 4,
 "nbformat_minor": 2
}
